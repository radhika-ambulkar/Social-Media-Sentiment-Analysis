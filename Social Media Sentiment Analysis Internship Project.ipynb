{
 "cells": [
  {
   "cell_type": "markdown",
   "id": "bf75d52b",
   "metadata": {},
   "source": [
    "# Radhika Ambulkar\n",
    "data analyst intern duration : 1 August 2024 to 30 September 2024"
   ]
  },
  {
   "cell_type": "markdown",
   "id": "6290fef8",
   "metadata": {},
   "source": [
    "# The dataset contains 27,481 rows and 4 columns with the following structure:\n",
    "\n",
    "Columns:\n",
    "textID: A unique identifier for each tweet (no missing values).\n",
    "text: The full text of the tweet (1 missing value).\n",
    "selected_text: A part of the tweet that reflects the sentiment (1 missing value).\n",
    "sentiment: The sentiment of the tweet, labeled as either positive, neutral, or negative (no missing values).\n",
    "Steps for Sentiment Analysis:\n",
    "Data Cleaning:\n",
    "\n",
    "Handle missing values in the text and selected_text columns.\n",
    "Remove unwanted characters, stop words, and punctuation from the text.\n",
    "Text Preprocessing:\n",
    "\n",
    "Tokenization: Break down the text into words or tokens.\n",
    "Lemmatization/Stemming: Convert words to their base forms.\n",
    "Convert all text to lowercase for uniformity.\n",
    "Label Encoding:\n",
    "\n",
    "Map the sentiment labels to numeric values, e.g., Positive = 1, Neutral = 0, Negative = -1.\n",
    "Feature Extraction:\n",
    "\n",
    "Use techniques like Bag of Words (BoW) or TF-IDF (Term Frequency-Inverse Document Frequency) to convert text data into numerical form.\n",
    "Model Building:\n",
    "\n",
    "Choose a machine learning algorithm (e.g., Logistic Regression, Naive Bayes, or Random Forest) to train a sentiment classification model.\n",
    "Model Training:\n",
    "\n",
    "Split the dataset into training and test sets.\n",
    "Train the model using the extracted features and sentiment labels.\n",
    "Model Evaluation:\n",
    "\n",
    "Evaluate the model using metrics like accuracy, precision, recall, F1-score, and confusion matrix.\n",
    "Tuning and Optimization:\n",
    "\n",
    "Optimize the model using techniques such as cross-validation and hyperparameter tuning."
   ]
  },
  {
   "cell_type": "code",
   "execution_count": 3,
   "id": "0a64c4c3",
   "metadata": {},
   "outputs": [],
   "source": [
    "import pandas as pd \n",
    "import numpy as np\n",
    "import matplotlib.pyplot as plt\n",
    "import seaborn as sns"
   ]
  },
  {
   "cell_type": "code",
   "execution_count": 4,
   "id": "de49a08a",
   "metadata": {},
   "outputs": [],
   "source": [
    "df = pd.read_csv('tweets.csv')"
   ]
  },
  {
   "cell_type": "code",
   "execution_count": 5,
   "id": "a86f3072",
   "metadata": {},
   "outputs": [
    {
     "name": "stdout",
     "output_type": "stream",
     "text": [
      "(27481, 4)\n"
     ]
    }
   ],
   "source": [
    "print(df.shape)"
   ]
  },
  {
   "cell_type": "code",
   "execution_count": 6,
   "id": "c3ab8db1",
   "metadata": {},
   "outputs": [
    {
     "name": "stdout",
     "output_type": "stream",
     "text": [
      "       textID                                               text  \\\n",
      "0  cb774db0d1                I`d have responded, if I were going   \n",
      "1  549e992a42      Sooo SAD I will miss you here in San Diego!!!   \n",
      "2  088c60f138                          my boss is bullying me...   \n",
      "3  9642c003ef                     what interview! leave me alone   \n",
      "4  358bd9e861   Sons of ****, why couldn`t they put them on t...   \n",
      "\n",
      "                         selected_text sentiment  \n",
      "0  I`d have responded, if I were going   neutral  \n",
      "1                             Sooo SAD  negative  \n",
      "2                          bullying me  negative  \n",
      "3                       leave me alone  negative  \n",
      "4                        Sons of ****,  negative  \n"
     ]
    }
   ],
   "source": [
    "print(df.head())"
   ]
  },
  {
   "cell_type": "code",
   "execution_count": 7,
   "id": "9d175dfd",
   "metadata": {},
   "outputs": [
    {
     "name": "stdout",
     "output_type": "stream",
     "text": [
      "           textID                                               text  \\\n",
      "27476  4eac33d1c0   wish we could come see u on Denver  husband l...   \n",
      "27477  4f4c4fc327   I`ve wondered about rake to.  The client has ...   \n",
      "27478  f67aae2310   Yay good for both of you. Enjoy the break - y...   \n",
      "27479  ed167662a5                         But it was worth it  ****.   \n",
      "27480  6f7127d9d7     All this flirting going on - The ATG smiles...   \n",
      "\n",
      "                                           selected_text sentiment  \n",
      "27476                                             d lost  negative  \n",
      "27477                                      , don`t force  negative  \n",
      "27478                          Yay good for both of you.  positive  \n",
      "27479                         But it was worth it  ****.  positive  \n",
      "27480  All this flirting going on - The ATG smiles. Y...   neutral  \n"
     ]
    }
   ],
   "source": [
    "print(df.tail())"
   ]
  },
  {
   "cell_type": "code",
   "execution_count": 8,
   "id": "90cb83f6",
   "metadata": {},
   "outputs": [
    {
     "name": "stdout",
     "output_type": "stream",
     "text": [
      "            textID                                  text selected_text  \\\n",
      "count        27481                                 27480         27480   \n",
      "unique       27481                                 27480         22463   \n",
      "top     cb774db0d1   I`d have responded, if I were going          good   \n",
      "freq             1                                     1           199   \n",
      "\n",
      "       sentiment  \n",
      "count      27481  \n",
      "unique         3  \n",
      "top      neutral  \n",
      "freq       11118  \n"
     ]
    }
   ],
   "source": [
    "print(df.describe())"
   ]
  },
  {
   "cell_type": "code",
   "execution_count": 9,
   "id": "794d7a6b",
   "metadata": {},
   "outputs": [
    {
     "name": "stdout",
     "output_type": "stream",
     "text": [
      "<class 'pandas.core.frame.DataFrame'>\n",
      "RangeIndex: 27481 entries, 0 to 27480\n",
      "Data columns (total 4 columns):\n",
      " #   Column         Non-Null Count  Dtype \n",
      "---  ------         --------------  ----- \n",
      " 0   textID         27481 non-null  object\n",
      " 1   text           27480 non-null  object\n",
      " 2   selected_text  27480 non-null  object\n",
      " 3   sentiment      27481 non-null  object\n",
      "dtypes: object(4)\n",
      "memory usage: 858.9+ KB\n",
      "None\n"
     ]
    }
   ],
   "source": [
    "print(df.info())"
   ]
  },
  {
   "cell_type": "code",
   "execution_count": 15,
   "id": "b641e2cf",
   "metadata": {},
   "outputs": [
    {
     "name": "stdout",
     "output_type": "stream",
     "text": [
      "No of null values :\n",
      " textID           0\n",
      "text             0\n",
      "selected_text    0\n",
      "sentiment        0\n",
      "dtype: int64\n",
      "Value count of sentiments : \n",
      " sentiment\n",
      "neutral     11117\n",
      "positive     8582\n",
      "negative     7781\n",
      "Name: count, dtype: int64\n"
     ]
    }
   ],
   "source": [
    "df.dropna(subset=['text', 'selected_text'], inplace=True)\n",
    "df.reset_index(drop=True, inplace=True)\n",
    "print(\"No of null values :\\n\",df.isnull().sum())\n",
    "print(\"Value count of sentiments : \\n\",df['sentiment'].value_counts())"
   ]
  },
  {
   "cell_type": "code",
   "execution_count": 18,
   "id": "3a40c547",
   "metadata": {},
   "outputs": [
    {
     "data": {
      "image/png": "[encoded data removed]",
      "text/plain": [
       "<Figure size 600x400 with 1 Axes>"
      ]
     },
     "metadata": {},
     "output_type": "display_data"
    }
   ],
   "source": [
    "df['sentiment'] = df['sentiment'].astype(str)\n",
    "try:\n",
    "    plt.figure(figsize=(6,4))\n",
    "    sns.countplot(data=df, x='sentiment', palette=\"Set2\")\n",
    "    plt.title('Sentiment Distribution')\n",
    "    plt.xlabel('Sentiment')\n",
    "    plt.ylabel('Count')\n",
    "    plt.show()\n",
    "except Exception as e:\n",
    "    print(f\"An error occurred: {e}\")"
   ]
  },
  {
   "cell_type": "code",
   "execution_count": 19,
   "id": "9d9d2144",
   "metadata": {},
   "outputs": [
    {
     "data": {
      "image/png": "[encoded data removed]",
      "text/plain": [
       "<Figure size 1000x600 with 1 Axes>"
      ]
     },
     "metadata": {},
     "output_type": "display_data"
    }
   ],
   "source": [
    "df['text_length'] = df['text'].apply(lambda x: len(str(x).split()))\n",
    "plt.figure(figsize=(10,6))\n",
    "sns.histplot(data=df, x='text_length', hue='sentiment', multiple='stack', bins=30)\n",
    "plt.title('Text Length Distribution by Sentiment')\n",
    "plt.xlabel('Text Length (Number of Words)')\n",
    "plt.ylabel('Frequency')\n",
    "plt.show()\n"
   ]
  },
  {
   "cell_type": "code",
   "execution_count": 24,
   "id": "7475b128",
   "metadata": {},
   "outputs": [
    {
     "name": "stderr",
     "output_type": "stream",
     "text": [
      "[nltk_data] Downloading package punkt to\n",
      "[nltk_data]     C:\\Users\\DELL\\AppData\\Roaming\\nltk_data...\n",
      "[nltk_data]   Package punkt is already up-to-date!\n",
      "[nltk_data] Downloading package stopwords to\n",
      "[nltk_data]     C:\\Users\\DELL\\AppData\\Roaming\\nltk_data...\n",
      "[nltk_data]   Package stopwords is already up-to-date!\n",
      "[nltk_data] Downloading package wordnet to\n",
      "[nltk_data]     C:\\Users\\DELL\\AppData\\Roaming\\nltk_data...\n",
      "[nltk_data]   Package wordnet is already up-to-date!\n"
     ]
    }
   ],
   "source": [
    "import re\n",
    "from nltk.corpus import stopwords\n",
    "from nltk.tokenize import word_tokenize\n",
    "from nltk.stem import WordNetLemmatizer\n",
    "import nltk\n",
    "\n",
    "# Download necessary resources\n",
    "nltk.download('punkt')\n",
    "nltk.download('stopwords')\n",
    "nltk.download('wordnet')\n",
    "\n",
    "# Initialize lemmatizer\n",
    "lemmatizer = WordNetLemmatizer()\n",
    "\n",
    "# Function for text cleaning\n",
    "def clean_text(text):\n",
    "    # Remove URLs, mentions, hashtags, and special characters\n",
    "    text = re.sub(r'http\\S+|@\\w+|#\\w+|[^A-Za-z\\s]', '', text)\n",
    "    text = text.lower()\n",
    "    tokens = word_tokenize(text)\n",
    "    \n",
    "    # Remove stopwords and lemmatize\n",
    "    tokens = [lemmatizer.lemmatize(word) for word in tokens if word not in stopwords.words('english')]\n",
    "    \n",
    "    return ' '.join(tokens)\n",
    "\n",
    "# Apply text cleaning to the 'text' column\n",
    "df['cleaned_text'] = df['text'].apply(clean_text)\n"
   ]
  },
  {
   "cell_type": "code",
   "execution_count": 25,
   "id": "550d4ad4",
   "metadata": {},
   "outputs": [],
   "source": [
    "from sklearn.preprocessing import LabelEncoder\n",
    "\n",
    "# Encode the sentiment column (positive=1, neutral=0, negative=-1)\n",
    "encoder = LabelEncoder()\n",
    "df['sentiment_label'] = encoder.fit_transform(df['sentiment'])\n"
   ]
  },
  {
   "cell_type": "code",
   "execution_count": 26,
   "id": "95ef16e5",
   "metadata": {},
   "outputs": [],
   "source": [
    "from sklearn.feature_extraction.text import TfidfVectorizer\n",
    "\n",
    "# Initialize TF-IDF Vectorizer\n",
    "tfidf = TfidfVectorizer(max_features=5000)\n",
    "\n",
    "# Fit and transform the cleaned text to numeric features\n",
    "X = tfidf.fit_transform(df['cleaned_text']).toarray()\n",
    "\n",
    "# Define the target variable (sentiment labels)\n",
    "y = df['sentiment_label']\n"
   ]
  },
  {
   "cell_type": "code",
   "execution_count": 35,
   "id": "340f8d48",
   "metadata": {},
   "outputs": [],
   "source": [
    "from sklearn.model_selection import train_test_split\n",
    "\n",
    "# Split the data into training and test sets (80% train, 20% test)\n",
    "X_train, X_test, y_train, y_test, train_indices, test_indices = train_test_split(\n",
    "    X, y, df.index, test_size=0.2, random_state=42\n",
    ")\n",
    "\n"
   ]
  },
  {
   "cell_type": "code",
   "execution_count": 36,
   "id": "ff08d9a1",
   "metadata": {},
   "outputs": [
    {
     "data": {
      "text/html": [
       "<style>#sk-container-id-2 {color: black;}#sk-container-id-2 pre{padding: 0;}#sk-container-id-2 div.sk-toggleable {background-color: white;}#sk-container-id-2 label.sk-toggleable__label {cursor: pointer;display: block;width: 100%;margin-bottom: 0;padding: 0.3em;box-sizing: border-box;text-align: center;}#sk-container-id-2 label.sk-toggleable__label-arrow:before {content: \"▸\";float: left;margin-right: 0.25em;color: #696969;}#sk-container-id-2 label.sk-toggleable__label-arrow:hover:before {color: black;}#sk-container-id-2 div.sk-estimator:hover label.sk-toggleable__label-arrow:before {color: black;}#sk-container-id-2 div.sk-toggleable__content {max-height: 0;max-width: 0;overflow: hidden;text-align: left;background-color: #f0f8ff;}#sk-container-id-2 div.sk-toggleable__content pre {margin: 0.2em;color: black;border-radius: 0.25em;background-color: #f0f8ff;}#sk-container-id-2 input.sk-toggleable__control:checked~div.sk-toggleable__content {max-height: 200px;max-width: 100%;overflow: auto;}#sk-container-id-2 input.sk-toggleable__control:checked~label.sk-toggleable__label-arrow:before {content: \"▾\";}#sk-container-id-2 div.sk-estimator input.sk-toggleable__control:checked~label.sk-toggleable__label {background-color: #d4ebff;}#sk-container-id-2 div.sk-label input.sk-toggleable__control:checked~label.sk-toggleable__label {background-color: #d4ebff;}#sk-container-id-2 input.sk-hidden--visually {border: 0;clip: rect(1px 1px 1px 1px);clip: rect(1px, 1px, 1px, 1px);height: 1px;margin: -1px;overflow: hidden;padding: 0;position: absolute;width: 1px;}#sk-container-id-2 div.sk-estimator {font-family: monospace;background-color: #f0f8ff;border: 1px dotted black;border-radius: 0.25em;box-sizing: border-box;margin-bottom: 0.5em;}#sk-container-id-2 div.sk-estimator:hover {background-color: #d4ebff;}#sk-container-id-2 div.sk-parallel-item::after {content: \"\";width: 100%;border-bottom: 1px solid gray;flex-grow: 1;}#sk-container-id-2 div.sk-label:hover label.sk-toggleable__label {background-color: #d4ebff;}#sk-container-id-2 div.sk-serial::before {content: \"\";position: absolute;border-left: 1px solid gray;box-sizing: border-box;top: 0;bottom: 0;left: 50%;z-index: 0;}#sk-container-id-2 div.sk-serial {display: flex;flex-direction: column;align-items: center;background-color: white;padding-right: 0.2em;padding-left: 0.2em;position: relative;}#sk-container-id-2 div.sk-item {position: relative;z-index: 1;}#sk-container-id-2 div.sk-parallel {display: flex;align-items: stretch;justify-content: center;background-color: white;position: relative;}#sk-container-id-2 div.sk-item::before, #sk-container-id-2 div.sk-parallel-item::before {content: \"\";position: absolute;border-left: 1px solid gray;box-sizing: border-box;top: 0;bottom: 0;left: 50%;z-index: -1;}#sk-container-id-2 div.sk-parallel-item {display: flex;flex-direction: column;z-index: 1;position: relative;background-color: white;}#sk-container-id-2 div.sk-parallel-item:first-child::after {align-self: flex-end;width: 50%;}#sk-container-id-2 div.sk-parallel-item:last-child::after {align-self: flex-start;width: 50%;}#sk-container-id-2 div.sk-parallel-item:only-child::after {width: 0;}#sk-container-id-2 div.sk-dashed-wrapped {border: 1px dashed gray;margin: 0 0.4em 0.5em 0.4em;box-sizing: border-box;padding-bottom: 0.4em;background-color: white;}#sk-container-id-2 div.sk-label label {font-family: monospace;font-weight: bold;display: inline-block;line-height: 1.2em;}#sk-container-id-2 div.sk-label-container {text-align: center;}#sk-container-id-2 div.sk-container {/* jupyter's `normalize.less` sets `[hidden] { display: none; }` but bootstrap.min.css set `[hidden] { display: none !important; }` so we also need the `!important` here to be able to override the default hidden behavior on the sphinx rendered scikit-learn.org. See: https://github.com/scikit-learn/scikit-learn/issues/21755 */display: inline-block !important;position: relative;}#sk-container-id-2 div.sk-text-repr-fallback {display: none;}</style><div id=\"sk-container-id-2\" class=\"sk-top-container\"><div class=\"sk-text-repr-fallback\"><pre>LogisticRegression(max_iter=1000)</pre><b>In a Jupyter environment, please rerun this cell to show the HTML representation or trust the notebook. <br />On GitHub, the HTML representation is unable to render, please try loading this page with nbviewer.org.</b></div><div class=\"sk-container\" hidden><div class=\"sk-item\"><div class=\"sk-estimator sk-toggleable\"><input class=\"sk-toggleable__control sk-hidden--visually\" id=\"sk-estimator-id-2\" type=\"checkbox\" checked><label for=\"sk-estimator-id-2\" class=\"sk-toggleable__label sk-toggleable__label-arrow\">LogisticRegression</label><div class=\"sk-toggleable__content\"><pre>LogisticRegression(max_iter=1000)</pre></div></div></div></div></div>"
      ],
      "text/plain": [
       "LogisticRegression(max_iter=1000)"
      ]
     },
     "execution_count": 36,
     "metadata": {},
     "output_type": "execute_result"
    }
   ],
   "source": [
    "from sklearn.linear_model import LogisticRegression\n",
    "\n",
    "# Initialize the Logistic Regression model\n",
    "model = LogisticRegression(max_iter=1000)\n",
    "\n",
    "# Train the model\n",
    "model.fit(X_train, y_train)\n"
   ]
  },
  {
   "cell_type": "code",
   "execution_count": 48,
   "id": "e4a3cea5",
   "metadata": {},
   "outputs": [
    {
     "name": "stdout",
     "output_type": "stream",
     "text": [
      "Logistic Regression Accuracy: 0.68\n",
      "Classification Report:\n",
      "              precision    recall  f1-score   support\n",
      "\n",
      "    negative       0.71      0.57      0.63      1572\n",
      "     neutral       0.62      0.75      0.68      2236\n",
      "    positive       0.77      0.70      0.73      1688\n",
      "\n",
      "    accuracy                           0.68      5496\n",
      "   macro avg       0.70      0.67      0.68      5496\n",
      "weighted avg       0.69      0.68      0.68      5496\n",
      "\n",
      "Confusion Matrix:\n",
      "[[ 892  589   91]\n",
      " [ 296 1679  261]\n",
      " [  62  447 1179]]\n"
     ]
    }
   ],
   "source": [
    "from sklearn.metrics import accuracy_score, classification_report, confusion_matrix\n",
    "\n",
    "# Predict the test set results\n",
    "y_pred = model.predict(X_test)\n",
    "\n",
    "# Calculate accuracy\n",
    "accuracy = accuracy_score(y_test, y_pred)\n",
    "print(f'Logistic Regression Accuracy: {accuracy:.2f}')\n",
    "\n",
    "# Print classification report\n",
    "print('Classification Report:')\n",
    "print(classification_report(y_test, y_pred, target_names=encoder.classes_))\n",
    "\n",
    "# Print confusion matrix\n",
    "print('Confusion Matrix:')\n",
    "print(confusion_matrix(y_test, y_pred))\n"
   ]
  },
  {
   "cell_type": "code",
   "execution_count": 38,
   "id": "87fdcb83",
   "metadata": {},
   "outputs": [
    {
     "name": "stdout",
     "output_type": "stream",
     "text": [
      "Naive Bayes Accuracy: 0.64\n"
     ]
    }
   ],
   "source": [
    "from sklearn.naive_bayes import MultinomialNB\n",
    "\n",
    "# Initialize and train Naive Bayes\n",
    "nb_model = MultinomialNB()\n",
    "nb_model.fit(X_train, y_train)\n",
    "\n",
    "# Make predictions\n",
    "nb_pred = nb_model.predict(X_test)\n",
    "\n",
    "# Evaluate\n",
    "accuracy_nb = accuracy_score(y_test, nb_pred)\n",
    "print(f'Naive Bayes Accuracy: {accuracy_nb:.2f}')\n"
   ]
  },
  {
   "cell_type": "markdown",
   "id": "27d97e3e",
   "metadata": {},
   "source": [
    "The logistic regression is performing well as compared to Naive Bayes"
   ]
  },
  {
   "cell_type": "code",
   "execution_count": 52,
   "id": "24be59a7",
   "metadata": {},
   "outputs": [
    {
     "name": "stdout",
     "output_type": "stream",
     "text": [
      "Accuracy: 0.68\n",
      "Classification Report:\n",
      "              precision    recall  f1-score   support\n",
      "\n",
      "    negative       0.71      0.57      0.63      1572\n",
      "     neutral       0.62      0.75      0.68      2236\n",
      "    positive       0.77      0.70      0.73      1688\n",
      "\n",
      "    accuracy                           0.68      5496\n",
      "   macro avg       0.70      0.67      0.68      5496\n",
      "weighted avg       0.69      0.68      0.68      5496\n",
      "\n",
      "Confusion Matrix:\n",
      "[[ 892  589   91]\n",
      " [ 296 1679  261]\n",
      " [  62  447 1179]]\n",
      "Test indices: Index([1588, 10413, 6561, 2602, 4003], dtype='int64')\n",
      "Original index being used: 1588\n",
      "Tweet :  Enjoy! Family trumps everything\n",
      "Predicted Sentiment: positive\n",
      "\n",
      "Original index being used: 10413\n",
      "Tweet :  --of them kinda turns me off of it all.  And then I buy more of them and dig a deeper hole, etc. ;;\n",
      "Predicted Sentiment: neutral\n",
      "\n",
      "Original index being used: 6561\n",
      "Tweet : Clive it`s my birthday pat me  http://apps.facebook.com/dogbook/profile/view/6386106\n",
      "Predicted Sentiment: neutral\n",
      "\n",
      "Original index being used: 2602\n",
      "Tweet :  congrats hey\n",
      "Predicted Sentiment: positive\n",
      "\n",
      "Original index being used: 4003\n",
      "Tweet : is texting\n",
      "Predicted Sentiment: neutral\n",
      "\n",
      "Original index being used: 1569\n",
      "Tweet :  Do you have any idea when the (not so) patient fans will see some teaser pics of you all in costume?\n",
      "Predicted Sentiment: neutral\n",
      "\n",
      "Original index being used: 27231\n",
      "Tweet :  Tell him where...\n",
      "Predicted Sentiment: neutral\n",
      "\n",
      "Original index being used: 8285\n",
      "Tweet :  Ooooh, I`m jealous  I might try and get some for the saturday but I have an exam on the monday that Im gonna fail\n",
      "Predicted Sentiment: negative\n",
      "\n",
      "Original index being used: 579\n",
      "Tweet :  OHSHNAPSSS. is she pissed at blair as usual ? hahah. & yeeeah, i bake cookies\n",
      "Predicted Sentiment: neutral\n",
      "\n",
      "Original index being used: 9188\n",
      "Tweet : wee. done with advance audit paper\n",
      "Predicted Sentiment: neutral\n",
      "\n",
      "Original index being used: 6699\n",
      "Tweet : good job!\n",
      "Predicted Sentiment: positive\n",
      "\n",
      "Original index being used: 9140\n",
      "Tweet : Headed to waterfront for a quick drink with the office peeps...Corsen Building of course was booked  Any suggestions?\n",
      "Predicted Sentiment: neutral\n",
      "\n",
      "Original index being used: 24274\n",
      "Tweet :  well, the customer is always right (at least that`s what they tell me)\n",
      "Predicted Sentiment: neutral\n",
      "\n",
      "Original index being used: 5117\n",
      "Tweet :  Doing really well! I will stay here as long as is needed!  So you can definitely come and visit me!! Look forward too ...\n",
      "Predicted Sentiment: positive\n",
      "\n",
      "Original index being used: 25013\n",
      "Tweet :  oooh sounds yummy.  If you get a chance to take some pics  please add them to the website as we don`t have many pies on there\n",
      "Predicted Sentiment: positive\n",
      "\n",
      "Original index being used: 9796\n",
      "Tweet : Could be useful  13 Tutorials & Resources for a Perfect Twitter Background http://tinyurl.com/dl2upx #design\n",
      "Predicted Sentiment: positive\n",
      "\n",
      "Original index being used: 3946\n",
      "Tweet :  whats up rick??\n",
      "Predicted Sentiment: neutral\n",
      "\n",
      "Original index being used: 6717\n",
      "Tweet : At work... What a miserable day\n",
      "Predicted Sentiment: neutral\n",
      "\n",
      "Original index being used: 3077\n",
      "Tweet :  thanks, I deserve it.\n",
      "Predicted Sentiment: positive\n",
      "\n",
      "Original index being used: 2874\n",
      "Tweet : and young ones....'look what I found'....'breakfast'....\n",
      "Predicted Sentiment: neutral\n",
      "\n",
      "Original index being used: 20182\n",
      "Tweet : Massive morning.. I`m stuffed now\n",
      "Predicted Sentiment: neutral\n",
      "\n",
      "Original index being used: 2830\n",
      "Tweet : I wish I had company\n",
      "Predicted Sentiment: positive\n",
      "\n",
      "Original index being used: 21209\n",
      "Tweet :  i`m on my mobile so it won`t let me  but i can`t stop thinking about you ;)x\n",
      "Predicted Sentiment: negative\n",
      "\n",
      "Original index being used: 12028\n",
      "Tweet : Today is check in day for week 12 of the Artist`s Way! Hurray time to celebrate another good completed journey.\n",
      "Predicted Sentiment: positive\n",
      "\n",
      "Original index being used: 12811\n",
      "Tweet :  where are you going tonight?!\n",
      "Predicted Sentiment: neutral\n",
      "\n",
      "Original index being used: 11028\n",
      "Tweet :   I wish I could go. See ya at Warped for sure tho!\n",
      "Predicted Sentiment: neutral\n",
      "\n",
      "Original index being used: 16792\n",
      "Tweet : Intel gfx driver situation much better with recent upgrades. kernel 2.6.30rc4 and driver from git: Suspend working again, fewer mem leaks\n",
      "Predicted Sentiment: neutral\n",
      "\n",
      "Original index being used: 21659\n",
      "Tweet : Once again, I`m dealing with cancer in my direct family. Bugger  Cancel sucks!\n",
      "Predicted Sentiment: negative\n",
      "\n",
      "Original index being used: 24206\n",
      "Tweet : Went to see 'UP'. It was a really good movie that pulls at the heart strings  i highly recommend it\n",
      "Predicted Sentiment: positive\n",
      "\n",
      "Original index being used: 4890\n",
      "Tweet :  xD  hello that`s an important date!\n",
      "Predicted Sentiment: neutral\n",
      "\n"
     ]
    }
   ],
   "source": [
    "from sklearn.model_selection import train_test_split\n",
    "\n",
    "# Assuming X and y are your feature matrix and target variable\n",
    "# Split the data and also return the indices\n",
    "X_train, X_test, y_train, y_test, train_indices, test_indices = train_test_split(\n",
    "    X, y, df.index, test_size=0.2, random_state=42\n",
    ")\n",
    "\n",
    "# Step 1: Make Predictions on the Test Set\n",
    "y_pred = model.predict(X_test)\n",
    "\n",
    "# Step 2: Evaluate the Model's Performance\n",
    "\n",
    "# Accuracy: Percentage of correctly classified instances\n",
    "accuracy = accuracy_score(y_test, y_pred)\n",
    "print(f'Accuracy: {accuracy:.2f}')\n",
    "\n",
    "# Step 3: Detailed Classification Report (Precision, Recall, F1-Score)\n",
    "print('Classification Report:')\n",
    "print(classification_report(y_test, y_pred, target_names=encoder.classes_))\n",
    "\n",
    "# Step 4: Confusion Matrix (To understand the distribution of correct and incorrect classifications)\n",
    "print('Confusion Matrix:')\n",
    "print(confusion_matrix(y_test, y_pred))\n",
    "\n",
    "# Step 5: Debug the test indices to ensure they match the original DataFrame\n",
    "print(f\"Test indices: {test_indices[:5]}\")  # Print the first 5 test indices\n",
    "\n",
    "# Display Sample Predictions\n",
    "for i in range(30):  # Displaying the first 5 predictions\n",
    "    original_index = test_indices[i]  # Get the original index from the test set\n",
    "\n",
    "    # Debugging statement to verify index and its presence in DataFrame\n",
    "    print(f\"Original index being used: {original_index}\")\n",
    "    \n",
    "    if original_index in df.index:\n",
    "        print(f\"Tweet : {df.loc[original_index]['text']}\")  # Display the original text\n",
    "        print(f\"Predicted Sentiment: {encoder.inverse_transform([y_pred[i]])[0]}\\n\")\n",
    "    else:\n",
    "        print(f\"Index {original_index} not found in DataFrame!\")\n"
   ]
  },
  {
   "cell_type": "code",
   "execution_count": null,
   "id": "f59d68c3",
   "metadata": {},
   "outputs": [],
   "source": []
  }
 ],
 "metadata": {
  "kernelspec": {
   "display_name": "Python 3 (ipykernel)",
   "language": "python",
   "name": "python3"
  },
  "language_info": {
   "codemirror_mode": {
    "name": "ipython",
    "version": 3
   },
   "file_extension": ".py",
   "mimetype": "text/x-python",
   "name": "python",
   "nbconvert_exporter": "python",
   "pygments_lexer": "ipython3",
   "version": "3.11.5"
  }
 },
 "nbformat": 4,
 "nbformat_minor": 5
}
